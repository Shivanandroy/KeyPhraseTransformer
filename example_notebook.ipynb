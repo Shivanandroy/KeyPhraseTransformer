{
 "cells": [
  {
   "cell_type": "code",
   "execution_count": 1,
   "metadata": {},
   "outputs": [],
   "source": [
    "from keyphrasetransformer import KeyPhraseTransformer\n",
    "\n",
    "kp = KeyPhraseTransformer()"
   ]
  },
  {
   "cell_type": "code",
   "execution_count": 2,
   "metadata": {},
   "outputs": [
    {
     "data": {
      "text/plain": [
       "['transfer learning',\n",
       " 'natural language processing (nlp)',\n",
       " 'nlp',\n",
       " 'text-to-text',\n",
       " 'language understanding',\n",
       " 'transfer approach',\n",
       " 'pretraining objectives',\n",
       " 'corpus',\n",
       " 'summarization',\n",
       " 'question answering']"
      ]
     },
     "execution_count": 2,
     "metadata": {},
     "output_type": "execute_result"
    }
   ],
   "source": [
    "doc = \"\"\"Transfer learning, where a model is first pre-trained on a data-rich task before being fine-tuned \n",
    "on a downstream task, has emerged as a powerful technique in natural language processing (NLP). \n",
    "The effectiveness of transfer learning has given rise to a diversity of approaches, methodology, and practice. \n",
    "In this paper, we explore the landscape of transfer learning techniques for NLP by introducing a unified framework \n",
    "that converts every language problem into a text-to-text format. Our systematic study compares pretraining objectives, \n",
    "architectures, unlabeled datasets, transfer approaches, and other factors on dozens of language understanding tasks. \n",
    "By combining the insights from our exploration with scale and our new “Colossal Clean Crawled Corpus”, \n",
    "we achieve state-of-the-art results on many benchmarks covering summarization, question answering, \n",
    "text classification, and more. To facilitate future work on transfer learning for NLP, \n",
    "we release our dataset, pre-trained models, and code.\n",
    "\n",
    "\"\"\"\n",
    "\n",
    "kp.get_key_phrases(doc)"
   ]
  },
  {
   "cell_type": "code",
   "execution_count": null,
   "metadata": {},
   "outputs": [],
   "source": []
  }
 ],
 "metadata": {
  "interpreter": {
   "hash": "7306abc11ed4dec42b6661423f565940329246c8f691811cb840605cdee0cded"
  },
  "kernelspec": {
   "display_name": "Python 3.8.12 ('KPT-ENV')",
   "language": "python",
   "name": "python3"
  },
  "language_info": {
   "codemirror_mode": {
    "name": "ipython",
    "version": 3
   },
   "file_extension": ".py",
   "mimetype": "text/x-python",
   "name": "python",
   "nbconvert_exporter": "python",
   "pygments_lexer": "ipython3",
   "version": "3.8.12"
  },
  "orig_nbformat": 4
 },
 "nbformat": 4,
 "nbformat_minor": 2
}
